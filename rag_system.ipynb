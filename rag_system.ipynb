{
 "cells": [
  {
   "cell_type": "code",
   "execution_count": null,
   "metadata": {},
   "outputs": [],
   "source": [
    "import os\n",
    "import json\n",
    "import faiss\n",
    "import numpy as np\n",
    "from openai import OpenAI\n",
    "import traceback\n",
    "import openai  # 추가\n",
    "from dotenv import load_dotenv\n",
    "import os\n",
    "from transformers import AutoModelForSequenceClassification, AutoTokenizer\n",
    "import torch\n",
    "\n",
    "# .env 파일 로드\n",
    "load_dotenv('/upstage-ai-advanced-ir7/.env')\n",
    "\n",
    "# API_KEY 값을 가져옴\n",
    "upstage_api_key = os.getenv('UPSTAGE_API_KEY')\n",
    "os.environ[\"OPENAI_API_KEY\"] = upstage_api_key\n",
    "\n",
    "# Upstage API 클라이언트 설정\n",
    "client = OpenAI(\n",
    "    api_key = upstage_api_key,\n",
    "    base_url = \"https://api.upstage.ai/v1/solar\"\n",
    ")\n",
    "\n",
    "client_gpt = OpenAI()"
   ]
  }
 ],
 "metadata": {
  "language_info": {
   "name": "python"
  }
 },
 "nbformat": 4,
 "nbformat_minor": 2
}
